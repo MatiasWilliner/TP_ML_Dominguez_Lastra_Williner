{
 "cells": [
  {
   "cell_type": "markdown",
   "id": "37996181",
   "metadata": {},
   "source": [
    "# Trabajo Práctico 1: Análisis Exploratorio de Datos"
   ]
  },
  {
   "cell_type": "markdown",
   "id": "60d1fd13",
   "metadata": {},
   "source": [
    "En este trabajo se va a utilizar un dataset de beisbol con el que más adelante se va a tratar de predecir si una jugada es home run o no. Pero para predecir lo anterior, primero se debe realizar el análisis de los datos del dataset, que es el objetivo de este TP."
   ]
  },
  {
   "cell_type": "markdown",
   "id": "f9bea7c8",
   "metadata": {},
   "source": [
    "## 1. Listado de variables y selección"
   ]
  },
  {
   "cell_type": "code",
   "execution_count": null,
   "id": "69f14b3c",
   "metadata": {},
   "outputs": [],
   "source": []
  },
  {
   "cell_type": "markdown",
   "id": "754ab768",
   "metadata": {},
   "source": [
    "## 2. Análisis detallado de un conjunto de variables"
   ]
  },
  {
   "cell_type": "code",
   "execution_count": null,
   "id": "04274366",
   "metadata": {},
   "outputs": [],
   "source": []
  },
  {
   "cell_type": "markdown",
   "id": "177d7861",
   "metadata": {},
   "source": [
    "## 3. Hipótesis sobre los datos"
   ]
  },
  {
   "cell_type": "code",
   "execution_count": null,
   "id": "9ebd560a",
   "metadata": {},
   "outputs": [],
   "source": []
  }
 ],
 "metadata": {
  "kernelspec": {
   "display_name": "Python 3 (ipykernel)",
   "language": "python",
   "name": "python3"
  },
  "language_info": {
   "codemirror_mode": {
    "name": "ipython",
    "version": 3
   },
   "file_extension": ".py",
   "mimetype": "text/x-python",
   "name": "python",
   "nbconvert_exporter": "python",
   "pygments_lexer": "ipython3",
   "version": "3.10.6"
  }
 },
 "nbformat": 4,
 "nbformat_minor": 5
}
