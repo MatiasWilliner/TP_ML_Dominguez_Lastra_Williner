{
 "cells": [
  {
   "cell_type": "markdown",
   "id": "37996181",
   "metadata": {},
   "source": [
    "# Trabajo Práctico 1: Análisis Exploratorio de Datos"
   ]
  },
  {
   "cell_type": "markdown",
   "id": "60d1fd13",
   "metadata": {},
   "source": [
    "El dataset seleccionado contiene datos sobre los bateos realizados en la temporada 2020 de MLB (Major League Baseball). El objetivo de este trabajo práctico es realizar un análisis de los datos, con el que más adelante se va a tratar de predecir si una jugada es jonrón (home run) o no.\n",
    "\n",
    "Se va a trabajar con los archivos train y park_dimensions. Los mismos se van a unir mediante la variable \"park\"."
   ]
  },
  {
   "cell_type": "markdown",
   "id": "f9bea7c8",
   "metadata": {},
   "source": [
    "# 1. Listado de variables y selección"
   ]
  },
  {
   "cell_type": "markdown",
   "id": "cf092bb2",
   "metadata": {},
   "source": [
    "## Detalle de variables"
   ]
  },
  {
   "cell_type": "markdown",
   "id": "87c8c880",
   "metadata": {},
   "source": [
    "### train.csv\n",
    "|Variable|Descripción|Comentario|Entrada|Salida|No utilizada\n",
    "| :- | :- | :- | :-: | :-: | :-:\n",
    "|bip_id|Identificador único de la pelota en juego.|No es relevante y podría conducir a un overfitting.|||X\n",
    "|game_date|Fecha del juego.|Formato: YYYY/MM/DD|X||\n",
    "|home_team|Abreviatura del equipo local.||X||\n",
    "|away_team|Abreviatura del equipo visitante.||X||\n",
    "|batter_team|Abreviatura del equipo del bateador.||X||\n",
    "|batter_name|Nombre del bateador.||X||\n",
    "|pitcher_name|Nombre del lanzador.||X||\n",
    "|batter_id|identificador único del bateador.|Podría conducir a un overfitting. Además, se puede utilizar la variable batter_name en su lugar, que brinda más información.|||X\n",
    "|pitcher_id|identificador único del lanzador.|Podría conducir a un overfitting. Además, se puede utilizar la variable pitcher_name en su lugar, que brinda más información.|||X\n",
    "|is_batter_lefty|Codificación binaria de bateadores zurdos.|Valores posibles: 0 y 1.|X||\n",
    "|is_pitcher_lefty|Codificación binaria de lanzadores zurdos.|Valores posibles: 0 y 1.|X||\n",
    "|bb_type|Clasificación del tipo de bola bateada.|Valores posibles: line_drive, popup, fly_ball, ground_ball|X||\n",
    "|bearing|Clasificación de la dirección horizontal de la bola que sale del bate.|Valores posibles: left, center, rigth|X||\n",
    "|pitch_name|Nombre del tipo de lanzamiento.|Valores posibles: Slider, 4-Seam Fastball, Changeup, Curveball, Sinker, Cutter, Knuckle Curve, Split-Finger, Forkball.|X||\n",
    "|park|Identificador único del estadio.|Podría conducir a un overfitting. Además, se puede utilizar la variable NAME en su lugar, que brinda más información. Hay que aclarar que dicha variable la vamos a usar para hacer un merge de los distintos archivos.|||X\n",
    "|inning|Número de entrada dentro del juego.||X||\n",
    "|outs_when_up|Número actual de outs.||X||\n",
    "|balls|Número actual de bolas.||X||\n",
    "|strikes|Número actual de strikes.||X||\n",
    "|plate_x|Posición de la bola con respecto a la placa central.|Se mide en pies, puede ser hacia la izquierda (-) o derecha (+).|X||\n",
    "|plate_z|Posición de la pelota con respecto al plato de home.|Se mide en pies.|X||\n",
    "|pitch_mph|Velocidad de la bola lanzada.|Se mide en millas por hora.|X||\n",
    "|launch_speed|Velocidad de la pelota que sale del bate.|Se mide en millas por hora.|X||\n",
    "|launch_angle|Ángulo vertical de la pelota que sale del bate.|Se expresan los grados relativos a una horizontal.|X||\n",
    "|is_home_run|Codificación binaria de jonrones.|Valores posibles: 0 y 1.||X||"
   ]
  },
  {
   "cell_type": "markdown",
   "id": "2a73a354",
   "metadata": {},
   "source": [
    "### park_dimensions.csv\n",
    "|Variable|Descripción|Comentario|Entrada|Salida|No utilizada\n",
    "| :- | :- | :- | :-: | :-: | :-:\n",
    "|NAME|Nombre del estadio.||X||\n",
    "|Cover|Indica si el estadio es abierto en la parte superior.|Valores posibles: Dome, Outdoor, Roof|X||\n",
    "|LF_Dim|Distancia a la pared del jardin izquierdo.|Se mide en pies.|X||\n",
    "|CF_Dim|Distancia a la pared del campo central.|Se mide en pies.|X||\n",
    "|RF_Dim|Distancia a la pared del jardin derecho.|Se mide en pies.|X||\n",
    "|LF_W|Altura de la pared del jardin izquierdo.|Se mide en pies.|X||\n",
    "|CF_W|Altura de la pared del campo central.|Se mide en pies.|X||\n",
    "|RF_W|Altura de la pared del jardin derecho.|Se mide en pies.|X||"
   ]
  },
  {
   "cell_type": "markdown",
   "id": "cd3a42b5",
   "metadata": {},
   "source": [
    "### Variable de salida\n",
    "La variable de salida es \"is_home_run\" que evalúa si una jugada termina en home run. Esto se produce si el bateador golpea la bola con fuerza y logra enviarla a las tribunas o fuera del estadio. Puede tener dos valores:\n",
    "- 0: No es home run\n",
    "- 1: Es home run"
   ]
  },
  {
   "cell_type": "markdown",
   "id": "0d8e28d8",
   "metadata": {},
   "source": [
    "## Detalle del dataset"
   ]
  },
  {
   "cell_type": "code",
   "execution_count": null,
   "id": "eb0ca82e",
   "metadata": {},
   "outputs": [],
   "source": [
    "# Importamos las dependencias necesarias.\n",
    "import pandas as pd\n",
    "import numpy as np\n",
    "%matplotlib inline\n",
    "import matplotlib.pyplot as plt\n",
    "import plotly.express as px\n",
    "from scipy import stats\n",
    "import seaborn as sns"
   ]
  },
  {
   "cell_type": "code",
   "execution_count": null,
   "id": "394c291f",
   "metadata": {},
   "outputs": [],
   "source": [
    "# Importamos train.csv y park_dimensions.csv, los unimos utilizando la variable \"park\"\n",
    "entrenamiento = pd.read_csv('./train.csv')\n",
    "estadio = pd.read_csv('./park_dimensions.csv')\n",
    "completa=entrenamiento.merge(estadio, on=\"park\", how=\"left\")\n",
    "\n",
    "# Desechamos las variables no utilizadas\n",
    "completa = completa.drop(['park','bip_id','batter_id','pitcher_id'],axis=1)"
   ]
  },
  {
   "cell_type": "code",
   "execution_count": null,
   "id": "7ff89822",
   "metadata": {},
   "outputs": [],
   "source": [
    "# Tipo de dato de cada columna.\n",
    "completa.dtypes"
   ]
  },
  {
   "cell_type": "code",
   "execution_count": null,
   "id": "810acd3a",
   "metadata": {},
   "outputs": [],
   "source": [
    "# Dimensiones del dataset.\n",
    "completa.shape"
   ]
  },
  {
   "cell_type": "code",
   "execution_count": null,
   "id": "9c835987",
   "metadata": {},
   "outputs": [],
   "source": [
    "# Primeras 5 filas\n",
    "completa.head()"
   ]
  },
  {
   "cell_type": "markdown",
   "id": "07162cf1",
   "metadata": {},
   "source": [
    "## 2. Análisis detallado de un conjunto de variables"
   ]
  },
  {
   "cell_type": "markdown",
   "id": "7b6ab1be",
   "metadata": {},
   "source": [
    "### Variable de salida y sus implicaciones"
   ]
  },
  {
   "cell_type": "code",
   "execution_count": null,
   "id": "04274366",
   "metadata": {},
   "outputs": [],
   "source": [
    "completa.is_home_run.value_counts().plot.bar(title='Número de home runs');"
   ]
  },
  {
   "cell_type": "code",
   "execution_count": null,
   "id": "ab47fac8",
   "metadata": {},
   "outputs": [],
   "source": [
    "completa.is_home_run.value_counts().plot.pie(autopct='%1.0f%%',figsize=(5,5), title='Porcentaje de ocurrencias de home run')"
   ]
  },
  {
   "cell_type": "markdown",
   "id": "d852e056",
   "metadata": {},
   "source": [
    "Luego de visualizar el gráfico, podemos ver que los valores de la salida no están balanceados, ya que se tienen mas de 40000 (95% aproximadamente) casos en los que no se tiene home run y solo menos de 5000 (5% aproximadamente) donde si se tiene home run. Esta gran diferencia podría traer problemas a la hora de entrenar diferentes modelos, ya que estos podrían optar por responder siempre por el valor que aparece en la mayoría de los casos y en dicho caso no tratarían de predecir. En otras palabras se podrían producir problemas de underfitting."
   ]
  },
  {
   "cell_type": "markdown",
   "id": "d22d16b1",
   "metadata": {},
   "source": [
    "### Selección de 5 variables de entrada y cómo afectan a la variable de salida."
   ]
  },
  {
   "cell_type": "markdown",
   "id": "5167be37",
   "metadata": {},
   "source": [
    "Las 5 variables de entrada elegidas para dicho punto son:\n",
    "- launch speed\n",
    "- launch angle\n",
    "- pitch_mph\n",
    "- bearing\n",
    "- name"
   ]
  },
  {
   "cell_type": "markdown",
   "id": "22589af4",
   "metadata": {},
   "source": [
    "#### Variable: launch_speed"
   ]
  },
  {
   "cell_type": "code",
   "execution_count": null,
   "id": "5cc7612e",
   "metadata": {},
   "outputs": [],
   "source": [
    "# Distribución de la variable\n",
    "px.histogram(completa, x='launch_speed', barmode='group', nbins=30)"
   ]
  },
  {
   "cell_type": "code",
   "execution_count": null,
   "id": "ac929ab7",
   "metadata": {},
   "outputs": [],
   "source": [
    "# Realación entre la variable de entrada seleccionada y la variable de salida\n",
    "px.histogram(completa, x='launch_speed', color='is_home_run', barmode='group')"
   ]
  },
  {
   "cell_type": "markdown",
   "id": "a199beda",
   "metadata": {},
   "source": [
    "Como conclusión podemos decir que la variable de entrada afecta a la variable de salida ya que cuando alcanza valores entre las 90 y las 110 millas por hora aproximadamente se empiezan a ver ejemplos de home run. Dichos valores describe una distribución simétrica."
   ]
  },
  {
   "cell_type": "markdown",
   "id": "f3e41d29",
   "metadata": {},
   "source": [
    "#### Variable: launch_angle"
   ]
  },
  {
   "cell_type": "code",
   "execution_count": null,
   "id": "e5d82a60",
   "metadata": {},
   "outputs": [],
   "source": [
    "# Distribución de la variable\n",
    "px.histogram(completa, x='launch_angle', barmode='group', nbins=30)"
   ]
  },
  {
   "cell_type": "code",
   "execution_count": null,
   "id": "869d9a95",
   "metadata": {},
   "outputs": [],
   "source": [
    "# Realación entre la variable de entrada seleccionada y la variable de salida\n",
    "px.histogram(completa, x='launch_angle', color='is_home_run', barmode='group')"
   ]
  },
  {
   "cell_type": "markdown",
   "id": "7ef7cca9",
   "metadata": {},
   "source": [
    "Como conclusión del gráfico anterior podemos ver que los datos de dicha variable de entrada tienen afectan a los da las variables de salida porque podemos ver un rango de valores entre los 18 y 42 grados aproximadamente en los que se produce home run. DIcho rango describe una distribución simétrica de datos."
   ]
  },
  {
   "cell_type": "markdown",
   "id": "6dac8353",
   "metadata": {},
   "source": [
    "#### Variable: pitch_mph"
   ]
  },
  {
   "cell_type": "code",
   "execution_count": null,
   "id": "ccbb48f7",
   "metadata": {},
   "outputs": [],
   "source": [
    "# Distribución de la variable\n",
    "px.histogram(completa, x='pitch_mph', barmode='group', nbins=30)"
   ]
  },
  {
   "cell_type": "code",
   "execution_count": null,
   "id": "8ecda014",
   "metadata": {},
   "outputs": [],
   "source": [
    "# Realación entre la variable de entrada seleccionada y la variable de salida\n",
    "px.histogram(completa, x='pitch_mph', color='is_home_run', barmode='group', nbins=30)"
   ]
  },
  {
   "cell_type": "markdown",
   "id": "b5c7171c",
   "metadata": {},
   "source": [
    "En este caso podemos ver que los datos de salida dependen de los datos de la variable de entrada pero en menor medida, ya que tenemos una distribución más uniforme con un rango de valores que va desde el 70 hasta los 100 millas por hora aproximadamente."
   ]
  },
  {
   "cell_type": "markdown",
   "id": "efb2fd13",
   "metadata": {},
   "source": [
    "#### Variable: bearing"
   ]
  },
  {
   "cell_type": "code",
   "execution_count": null,
   "id": "18126456",
   "metadata": {},
   "outputs": [],
   "source": [
    "# Distribución de la variable\n",
    "completa.bearing.value_counts().plot.pie(autopct='%1.0f%%',figsize=(5,5))"
   ]
  },
  {
   "cell_type": "code",
   "execution_count": null,
   "id": "64c45034",
   "metadata": {},
   "outputs": [],
   "source": [
    "# Realación entre la variable de entrada seleccionada y la variable de salida\n",
    "px.histogram(completa, x='bearing', color='is_home_run', barmode='group')"
   ]
  },
  {
   "cell_type": "markdown",
   "id": "909a33e2",
   "metadata": {},
   "source": [
    "Como se aprecia en el gráfico, las variables de entrada afectan a la variable de salida en mayor medida si son del tipo \"center\", ya que si el bearing es de este tipo tiene mayor probabilidad de ser home run.Como se puede ver en este caso, la variable tiene poca importancia en la salida, ya que teniendo en cuenta los tipos de lanzamiento y su desigual distribución, los casos en que se producen home runs en general son similares."
   ]
  },
  {
   "cell_type": "markdown",
   "id": "7910b214",
   "metadata": {},
   "source": [
    "#### Variable: NAME"
   ]
  },
  {
   "cell_type": "code",
   "execution_count": null,
   "id": "ac816aed",
   "metadata": {},
   "outputs": [],
   "source": [
    "# Distribución de la variable\n",
    "completa.NAME.value_counts().plot.pie(autopct='%1.0f%%',figsize=(10,10))"
   ]
  },
  {
   "cell_type": "code",
   "execution_count": null,
   "id": "3539075a",
   "metadata": {},
   "outputs": [],
   "source": [
    "# Relación entre la variable de entrada seleccionada y la variable de salida\n",
    "px.histogram(completa, x='NAME', color='is_home_run', barmode='group')"
   ]
  },
  {
   "cell_type": "markdown",
   "id": "ada6f95e",
   "metadata": {},
   "source": [
    "Como se puede ver teniendo en cuenta la distribución y la relación con la variable de salida, podemos decir que la variable de entrada influye poco o casi nada en definir si una jugada es termina en home run o no."
   ]
  },
  {
   "cell_type": "markdown",
   "id": "639e2f79",
   "metadata": {},
   "source": [
    "### Variables de entrada elegidas y su transformación"
   ]
  },
  {
   "cell_type": "markdown",
   "id": "cc98eafb",
   "metadata": {},
   "source": [
    "Para utilizar el dataset en un modelo hay muchos cambios que se podrían aplicar. Uno de ellos es **modificar algunos nombres de las variables**, reemplazando las mayúsculas por minúsculas, respetando el formato de escritura. También convertimos la variable \"game_date\" al tipo correspondiente."
   ]
  },
  {
   "cell_type": "code",
   "execution_count": null,
   "id": "32ab87e9",
   "metadata": {},
   "outputs": [],
   "source": [
    "# Asignamos nuevos nombres a las columnas\n",
    "renamed_columns = {'NAME': 'name', 'Cover': 'cover', 'LF_Dim': 'lf_dim', 'CF_Dim':'cf_dim',\n",
    "                   'RF_Dim': 'rf_dim', 'LF_W': 'lf_w', 'CF_W': 'cf_w', 'RF_W': 'rf_w'\n",
    "                  }\n",
    "completa.rename(columns=renamed_columns, inplace=True)\n",
    "\n",
    "# Convertir columna \"game_date\" de tipo object/string, a datetime\n",
    "completa['game_date'] = pd.to_datetime(completa['game_date'])"
   ]
  },
  {
   "cell_type": "markdown",
   "id": "c87fadca",
   "metadata": {},
   "source": [
    "Por otra parte, aplicaremos el **método Scalling** en las variables numéricas, esto ayudará al modelo a converger con mayor rapidez. Se deben escalar las mismas a rangos similares sin alterar su distribución, para ello aplicaremos MaxAbsScaler de sklearn. De esta forma, evitamos que aquellas variables cuyos valores estén en rangos más grandes tengan mayor peso que las demás.\n",
    "\n",
    "\n",
    "*Variables afectadas:* inning, outs_when_up, balls, strikes, plate_x, plate_z, pitch_mph, launch_speed, launch_angle"
   ]
  },
  {
   "cell_type": "code",
   "execution_count": null,
   "id": "fe500b26",
   "metadata": {},
   "outputs": [],
   "source": [
    "completa[['inning', 'outs_when_up', 'balls', 'strikes', 'plate_x', \n",
    "           'plate_z', 'pitch_mph', 'launch_speed', 'launch_angle', \n",
    "           'lf_dim', 'cf_dim', 'rf_dim', 'lf_w', 'cf_w', 'rf_w']\n",
    "         ].describe(include='all')"
   ]
  },
  {
   "cell_type": "markdown",
   "id": "7fcb8588",
   "metadata": {},
   "source": [
    "En aquellas variables que contienen categorías, decidimos aplicar el método **One-Hot Encoder**, para facilitar el manejo de las mismas por parte de los algoritmos de Machine Learning.\n",
    "\n",
    "*Variables afectadas:* pitch_name, bb_type, bearing, pitch_name, cover"
   ]
  },
  {
   "cell_type": "markdown",
   "id": "227098f7",
   "metadata": {},
   "source": [
    "Decidimos no transformar aquellas variables binarias o de texto ya que se encuentran correctamente representadas.\n",
    "\n",
    "*Variables afectadas:* home_team, away_team, batter_team, batter_name, pitcher_nameis_batter_lefty, is_pitcher_lefty."
   ]
  },
  {
   "cell_type": "markdown",
   "id": "f2edc48f",
   "metadata": {},
   "source": [
    "### Valores nulos y/o extremos"
   ]
  },
  {
   "cell_type": "markdown",
   "id": "3f297c90",
   "metadata": {},
   "source": [
    "#### Valores nulos"
   ]
  },
  {
   "cell_type": "code",
   "execution_count": null,
   "id": "eb962fa9",
   "metadata": {},
   "outputs": [],
   "source": [
    "completa.isnull().sum()"
   ]
  },
  {
   "cell_type": "markdown",
   "id": "741d058e",
   "metadata": {},
   "source": [
    "Como se puede ver en la estadistica anterior hay valores nulos en las variables \"launch_speed\" media, \"launch_angle\" y \"bb_type\" eliminar. El tratamiento que se le podría dar a las dos primeras es el de completarlas con la media de obtenida de los otros casos o con los valores de los casos similares. Otra opción podría ser eliminar sus filas ya que se tienen muchos datos y no habría muchos problemas sin se sacan algunos. Con respecto a la variable \"bb_type\" lo que se puede hacer es eliminar las filas con los valores nulos, ya que son muy pocas."
   ]
  },
  {
   "cell_type": "markdown",
   "id": "fc7408a5",
   "metadata": {},
   "source": [
    "#### Valores extremos"
   ]
  },
  {
   "cell_type": "markdown",
   "id": "ca1e6141",
   "metadata": {},
   "source": [
    "##### Variable: launch_angle"
   ]
  },
  {
   "cell_type": "code",
   "execution_count": null,
   "id": "67d8e0ee",
   "metadata": {},
   "outputs": [],
   "source": [
    "# Convertimos en array a la columna launch_angle\n",
    "launch_angles = np.array(completa.launch_angle)\n",
    "\n",
    "# Armamos un diagrama de dispersión con la variable launch_angle.\n",
    "angle_unique, counts = np.unique(launch_angles, return_counts = True)\n",
    "size = counts * 3\n",
    "colors = ['blue'] * len(angle_unique)\n",
    "plt.axhline(1,color='k',linestyle='--')\n",
    "plt.scatter(angle_unique,np.ones(len(angle_unique)),s=size,color=colors)\n",
    "plt.yticks([])\n",
    "plt.show()"
   ]
  },
  {
   "cell_type": "code",
   "execution_count": null,
   "id": "8810b1cd",
   "metadata": {},
   "outputs": [],
   "source": [
    "# Diagrama de caja de campo launch_angle\n",
    "completa.boxplot('launch_angle');"
   ]
  },
  {
   "cell_type": "markdown",
   "id": "6516b156",
   "metadata": {},
   "source": [
    "##### Variable: launch_speed"
   ]
  },
  {
   "cell_type": "code",
   "execution_count": null,
   "id": "43460975",
   "metadata": {},
   "outputs": [],
   "source": [
    "# Convertimos en array a la columna launch_speed\n",
    "launch_speeds = np.array(completa.launch_speed)\n",
    "\n",
    "# Armamos un diagrama de dispersión con la variable launch_speed.\n",
    "speed_unique, counts = np.unique(launch_speeds, return_counts = True)\n",
    "size = counts * 3\n",
    "colors = ['blue'] * len(speed_unique)\n",
    "plt.axhline(1,color='k',linestyle='--')\n",
    "plt.scatter(speed_unique,np.ones(len(speed_unique)),s=size,color=colors)\n",
    "plt.yticks([])\n",
    "plt.show()"
   ]
  },
  {
   "cell_type": "code",
   "execution_count": null,
   "id": "acb77408",
   "metadata": {},
   "outputs": [],
   "source": [
    "# Diagrama de caja de campo launch_speed\n",
    "completa.boxplot('launch_speed');"
   ]
  },
  {
   "cell_type": "markdown",
   "id": "03370df4",
   "metadata": {},
   "source": [
    "##### Variable: plate_x"
   ]
  },
  {
   "cell_type": "code",
   "execution_count": null,
   "id": "e66117dd",
   "metadata": {},
   "outputs": [],
   "source": [
    "# Convertimos en array a la columna plate_x\n",
    "plate_xs = np.array(completa.plate_x)\n",
    "\n",
    "# Armamos un diagrama de dispersión con la variable plate_x\n",
    "platex_unique, counts = np.unique(plate_xs, return_counts = True)\n",
    "size = counts * 3\n",
    "colors = ['blue'] * len(platex_unique)\n",
    "plt.axhline(1,color='k',linestyle='--')\n",
    "plt.scatter(platex_unique,np.ones(len(platex_unique)),s=size,color=colors)\n",
    "plt.yticks([])\n",
    "plt.show()"
   ]
  },
  {
   "cell_type": "code",
   "execution_count": null,
   "id": "ee0fabfe",
   "metadata": {},
   "outputs": [],
   "source": [
    "# Diagrama de caja de campo plate_x\n",
    "completa.boxplot('plate_x');"
   ]
  },
  {
   "cell_type": "code",
   "execution_count": null,
   "id": "0c693ef3",
   "metadata": {},
   "outputs": [],
   "source": [
    "# Convertimos en array a la columna plate_z\n",
    "plate_zs = np.array(completa.plate_z)\n",
    "\n",
    "# Armamos un diagrama de dispersión con la variable plate_z\n",
    "platez_unique, counts = np.unique(plate_zs, return_counts = True)\n",
    "size = counts * 3\n",
    "colors = ['blue'] * len(platez_unique)\n",
    "plt.axhline(1,color='k',linestyle='--')\n",
    "plt.scatter(platez_unique,np.ones(len(platez_unique)),s=size,color=colors)\n",
    "plt.yticks([])\n",
    "plt.show()"
   ]
  },
  {
   "cell_type": "code",
   "execution_count": null,
   "id": "fe3cfc6a",
   "metadata": {},
   "outputs": [],
   "source": [
    "# Diagrama de caja de campo plate_z\n",
    "completa.boxplot('plate_z');"
   ]
  },
  {
   "cell_type": "markdown",
   "id": "dd53d670",
   "metadata": {},
   "source": [
    "##### Variable: pitch_mph"
   ]
  },
  {
   "cell_type": "code",
   "execution_count": null,
   "id": "b2ac33a2",
   "metadata": {},
   "outputs": [],
   "source": [
    "pitch_mphs = np.array(completa.pitch_mph)\n",
    "\n",
    "pitch_mph_unique, counts = np.unique(pitch_mphs, return_counts = True)\n",
    "size = counts * 3\n",
    "colors = ['blue'] * len(pitch_mph_unique)\n",
    "plt.axhline(1,color='k',linestyle='--')\n",
    "plt.scatter(pitch_mph_unique,np.ones(len(pitch_mph_unique)),s=size,color=colors)\n",
    "plt.yticks([])\n",
    "plt.show()"
   ]
  },
  {
   "cell_type": "code",
   "execution_count": null,
   "id": "8154af8d",
   "metadata": {},
   "outputs": [],
   "source": [
    "completa.boxplot('pitch_mph');"
   ]
  },
  {
   "cell_type": "markdown",
   "id": "709258a5",
   "metadata": {},
   "source": [
    "De acuerdo a lo visto en los gráficos anteriores, las variables que poseen extremos son \"plate_x\", \"plate_z\", \"pitch_mph\", \"launch_speed\" y \"launch_angle\". Lo que se podría hacer con dichos datos es eliminarlos para que no afecten los resultados de los métricas.Cabe aclarar que las variables \"lf_dim\", \"cf_dim\", \"rf_dim\", \"lf_w\", \"cf_w\" y \"rf_w\" también presentan valores extremos, pero en estos casos se deben dejar porque hablan de las dimensiones de los estadios y por lo tanto no se deberían eliminar."
   ]
  },
  {
   "cell_type": "markdown",
   "id": "ae0f4450",
   "metadata": {},
   "source": [
    "### Existencia de variables altamente correlacionadas con la variable \"target\""
   ]
  },
  {
   "cell_type": "code",
   "execution_count": null,
   "id": "702b1c2c",
   "metadata": {},
   "outputs": [],
   "source": [
    "# Gráfico de colores de las principales variables\n",
    "sns.heatmap(completa.corr(), annot=True, cmap='RdYlGn', linewidths=0.2)\n",
    "fig = plt.gcf()\n",
    "fig.set_size_inches(20, 8)\n",
    "plt.show()"
   ]
  },
  {
   "cell_type": "markdown",
   "id": "1a3dafe3",
   "metadata": {},
   "source": [
    "Como se ve en el gráfico de colores no existen variables altamente correlacionadas con la variable target, ya que la variables con mayor valor de correlación son \"launch_speed\" y \"launch_angle\" con 0,25 y 0,13 respectivamente. Consideramos que esto pasa por la cantidad de variables de entrada del dataset y por el gran desbalance entre los datos de categoría positiva y negativa (si es o no home run)."
   ]
  },
  {
   "cell_type": "markdown",
   "id": "177d7861",
   "metadata": {},
   "source": [
    "## 3. Hipótesis sobre los datos"
   ]
  },
  {
   "cell_type": "markdown",
   "id": "51e1abb3",
   "metadata": {},
   "source": [
    "### Hipótesis"
   ]
  },
  {
   "cell_type": "markdown",
   "id": "a1a850ef",
   "metadata": {},
   "source": [
    "#### Hipotésis 1: Hay una mayor tendencia de que la jugada sea home run cuando el ángulo de lanzamiento es mayor o igual a 20° y menor a 40°."
   ]
  },
  {
   "cell_type": "code",
   "execution_count": null,
   "id": "61a1e5f1",
   "metadata": {},
   "outputs": [],
   "source": [
    "def condition_h1(row):\n",
    "    if (row['launch_angle'] >= 20.0) and (row['launch_angle'] < 40.0) and (row['launch_angle'] != 'nan'):\n",
    "        return 1\n",
    "    else:\n",
    "        return 0\n",
    "    \n",
    "higher_launch_angle = completa.apply(condition_h1, axis=1)\n",
    "completa['higher_launch_angle'] = higher_launch_angle\n",
    "\n",
    "completa[completa.is_home_run==1].higher_launch_angle.value_counts(normalize=True).sort_index().plot.pie(autopct='%1.0f%%', ylabel='Resultado', title=f'% de tiros con ángulo mayor o igual a 20° y menor a 40° que fueron home run')"
   ]
  },
  {
   "cell_type": "markdown",
   "id": "08a07ce7",
   "metadata": {},
   "source": [
    "Según los datos se comprueba que la hipótesis es verdadera porque en el gŕafico anterior se puede observar que hay un 71% de casos en los que se produce hom run con el rango especificado de ángulos, frente a un 29% de casos negativos."
   ]
  },
  {
   "cell_type": "markdown",
   "id": "371e7676",
   "metadata": {},
   "source": [
    "#### Hipótesis 2: Hay menos probabilidades de que se produzca un home run si la dirección de la pelota (bearing) es distinto de \"rigth\" y el tipo de bola es \"fly_ball\"."
   ]
  },
  {
   "cell_type": "code",
   "execution_count": null,
   "id": "4dd53c52",
   "metadata": {},
   "outputs": [],
   "source": [
    "def condition_h2(row):\n",
    "    if (row['bearing'] != 'rigth') and (row['bb_type'] == 'fly_ball'):\n",
    "        return 1\n",
    "    else:\n",
    "        return 0\n",
    "    \n",
    "center_bearing = completa.apply(condition_h2, axis=1)\n",
    "completa['center_bearing'] = center_bearing\n",
    "\n",
    "completa[completa.is_home_run==1].center_bearing.value_counts(normalize=True).sort_index().plot.pie(autopct='%1.0f%%', ylabel='Resultado' , title=f'% de casos donde se cumplen las condiciones y se produce home run')"
   ]
  },
  {
   "cell_type": "markdown",
   "id": "6e14a64e",
   "metadata": {},
   "source": [
    "Según los datos se comprueba que la hipótesis es falsa porque en el gŕafico anterior se puede ver que hay un 55% de casos en los que se produce hom run con el las condiciones indicadas, frente a un 45% de casos negativos."
   ]
  },
  {
   "cell_type": "markdown",
   "id": "2a3c6d1b",
   "metadata": {},
   "source": [
    "#### Hipótesis 3: Si el lanzador es diestro, si la velocidad de la bola es mayor al promedio, si el tipo de bola (bb_type) es \"line drive\" y  si el tipo de lanzamiento es \"Slider, hay una probabilidad de al menos 5% de que se produzca un home run."
   ]
  },
  {
   "cell_type": "code",
   "execution_count": null,
   "id": "e573a35f",
   "metadata": {},
   "outputs": [],
   "source": [
    "def condition_h3(row):\n",
    "    if (row['is_pitcher_lefty'] == 0) and (row['bb_type'] == 'fly_ball') and (row['pitch_mph'] < 89) and (row['pitch_name'] == 'Slider'):\n",
    "        return 1\n",
    "    else:\n",
    "        return 0\n",
    "    \n",
    "pitcher_lefty_mph = completa.apply(condition_h3, axis=1)\n",
    "completa['pitcher_lefty_mph'] = pitcher_lefty_mph\n",
    "\n",
    "completa[completa.is_home_run==1].pitcher_lefty_mph.value_counts(normalize=True).sort_index().plot.pie(ylabel='Resultado', autopct='%1.0f%%', title=f'% de casos donde se cumplen las condiciones y se produce un home run')"
   ]
  },
  {
   "cell_type": "markdown",
   "id": "c53ad915",
   "metadata": {},
   "source": [
    "Según los datos se comprueba que la hipótesis es verdadera porque en el gŕafico anterior se puede ver que hay un 6% de casos en los que se produce hom run con el las condiciones indicadas, frente a un 94% de casos negativos."
   ]
  },
  {
   "cell_type": "markdown",
   "id": "ad4ce3b2",
   "metadata": {},
   "source": [
    "### Hallazgos"
   ]
  },
  {
   "cell_type": "markdown",
   "id": "5d3fe938",
   "metadata": {},
   "source": [
    "- Muchas variables, 29 para ser exactos, lo que puede volver más complejo el diseño del modelo de predicción. Como consecuencia a la hora de buscar una función para el modelo, esta va a tener que considerar muchos aspectos.\n",
    "- Como se pudo observar anteriormente hay un desbalance importante en la variable de salida y muchos casos son parecidos lo que puede afectar al modelo en lo que respecta a la generalización para identificar la mejor predicción.\n",
    "- Las correlaciones entre las distintas variables con la variable de salida no son tan importantes, por lo que no es muy fácil identificar cual de todas las variables tienen mayor peso. Esto se debe en parte a la gran variedad de casos que se pueden tener en los datos del dataset. Esto podría traer complicaciones a la hora de hacer el modelo y determinar las variables con mayor peso o más relevantes."
   ]
  },
  {
   "cell_type": "code",
   "execution_count": null,
   "id": "8d450b5f",
   "metadata": {},
   "outputs": [],
   "source": []
  }
 ],
 "metadata": {
  "kernelspec": {
   "display_name": "Python 3 (ipykernel)",
   "language": "python",
   "name": "python3"
  },
  "language_info": {
   "codemirror_mode": {
    "name": "ipython",
    "version": 3
   },
   "file_extension": ".py",
   "mimetype": "text/x-python",
   "name": "python",
   "nbconvert_exporter": "python",
   "pygments_lexer": "ipython3",
   "version": "3.9.2"
  }
 },
 "nbformat": 4,
 "nbformat_minor": 5
}
