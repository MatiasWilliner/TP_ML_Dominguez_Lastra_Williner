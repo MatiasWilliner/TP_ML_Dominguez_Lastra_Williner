{
 "cells": [
  {
   "cell_type": "markdown",
   "id": "37996181",
   "metadata": {},
   "source": [
    "# Trabajo Práctico 1: Análisis Exploratorio de Datos"
   ]
  },
  {
   "cell_type": "markdown",
   "id": "60d1fd13",
   "metadata": {},
   "source": [
    "En este trabajo se va a utilizar un dataset de beisbol con el que más adelante se va a tratar de predecir si una jugada es home run o no. Pero para predecir lo anterior, primero se debe realizar el análisis de los datos del dataset, que es el objetivo de este TP."
   ]
  },
  {
   "cell_type": "markdown",
   "id": "f9bea7c8",
   "metadata": {},
   "source": [
    "## 1. Listado de variables y selección"
   ]
  },
  {
   "cell_type": "markdown",
   "id": "cd3a42b5",
   "metadata": {},
   "source": [
    "### Detalle de variables\n",
    "\n",
    "                            Nombre                                             Tipo\n",
    "\n",
    "    - bip_id: identificador único de la pelota en juego                     No utilizada\n",
    "    - game_date: fecha del juego. Formato (YYYY-MM-DD)                      Entrada (?)\n",
    "    - home_team: abreviación del equipo local                               Entrada\n",
    "    - away_team: abreviación del equipo visitante                           Entrada\n",
    "    - batter_team: abreviación del equipo del bateador                      Entrada\n",
    "    - batter_name: nombre del bateador                                      Entrada\n",
    "    - pitcher_name: nombre del lanzador                                     Entrada\n",
    "    - batter_id: identificador único del bateador                           No utilizada\n",
    "    - pitcher_id: identificador único del lanzador                          No utilizada                             \n",
    "    - is_batter_lefty: codificaciń binaria de bateadores zurdos             Entrada\n",
    "    - is_pitcher_lefty: codificación binaria de lanzadores zurdos           Entrada\n",
    "    - bb_type: clasificación del tipo de bola bateada                       Entrada\n",
    "    - bearing: clasificación de la dirección horizontal de la pelota        Entrada (?)\n",
    "    - pitch_name: nombre del tipo de lanzamiento                            Entrada\n",
    "    - park: identificador único del estadio                                 No utilizada\n",
    "    - inning: número de entradas dentro del juego                           Entrada\n",
    "    - outs_when_up: número actual de outs                                   Entrada                          \n",
    "    - balls: número actual de bolas                                         Entrada\n",
    "    - strikes: número actual de strikes                                     Entrada\n",
    "    - plate_x: posición de la bola con respecto a la placa central          Entrada (?)\n",
    "    - plate_z: posición de la pelota con respecto al plato de home          Entrada (?)\n",
    "    - pitch_mph: velocidad de la pelota lanzada                             Entrada\n",
    "    - launch_speed: velocidad a la que la pelota del bate                   Entrada\n",
    "    - launch_angle: angulo vertical de la pelota dejando el bate            Entrada\n",
    "    - is_home_run: es home run                                              Salida\n",
    "    - NAME: nombre del estadio                                              Entrada\n",
    "    - Cover: indica si el estadio es abierto en la parte superior           Entrada\n",
    "    - LF_Dim: distancia a la pared del jardin izquierdo                     Entrada\n",
    "    - CF_Dim: distancia a la pared del campo central                        Entrada\n",
    "    - RF_Dim: distancia a la pared del jardin derecho                       Entrada\n",
    "    - LF_W: altura de la pared del jardin izquierdo                         Entrada\n",
    "    - CF_W: altura de la pared del campo central                            Entrada\n",
    "    - RF_W: altura de la pared del jardin derecho                           Entrada\n",
    "\n",
    "#### Aclaraciones\n",
    "\n",
    "- game_date: usa un formato (YYYY/MM/DD)\n",
    "- is_batter_lefty: dos valores posibles:\n",
    "    - 0: No\n",
    "    - 1: Si\n",
    "- is_pitcher_lefty: tiene dos valores posibles\n",
    "    - 0: No\n",
    "    - 1: Si\n",
    "- bb_type:\n",
    "    line_drive\n",
    "    popup\n",
    "    fly_ball\n",
    "    ground_ball\n",
    "- bearing: tiene tres posibles valores\n",
    "    - left (izquierda)\n",
    "    - center (centro)\n",
    "    - rigth (derecha)\n",
    "- plate_x: se indica con signo \"-\" si esta a la izquierda y con signo \"+\" si es hacia la derecha. Se mide en pies\n",
    "- plate_z: se mide en pies\n",
    "- pitch_mph: se mide en millas por hora\n",
    "- launch_speed: se mide en millas por hora\n",
    "- launch_angle: se expresan los grados relativos a una horizontal\n",
    "- Cover: tiene tres valores posibles.\n",
    "    - Dome (Cúpula)\n",
    "    - Outdoor (Exterior)\n",
    "    - Roof (Techo)\n",
    "- LF_Dim: Se mide en pies\n",
    "- CF_Dim: Se mide en pies\n",
    "- RF_Dim: Se mide en pies\n",
    "- LF_W: Se mide en pies\n",
    "- CF_W: Se mide en pies\n",
    "- RF_W: Se mide en pies\n",
    "- Se va a trabajar con los archivos train y park_dimensions. Los mismos se van a unir mediante la variable \"park\"\n",
    "\n",
    "### Detalle de variable de salida\n",
    "\n",
    "La variable de salida es \"is_home_run\" que evalúa si una jugada termina en home run. Esto se produce si el bateador golpea la bola con fuerza y logra enviarla a las tribunas o fuera del estadio. Puede tener dos valores:\n",
    "- 0: No es home run\n",
    "- 1: Es home run\n",
    "\n",
    "### Variables no utilizadas\n",
    "\n",
    "- bip_id: No se usa una variable porque dicha información no es relevante para ser usada en el modelo y debido a que es un id que nunca se repite\n",
    "- batter_id: No se usa porque se puede utilizar la variable nombre en su lugar, lo que sería más práctico porque brinda más información\n",
    "- pitcher_id: No se usa porque se puede utilizar la variable nombre, lo que sería más práctico porqu brinda más información\n",
    "- park: No se usa porque dicha información no representa mucho y en consecuencia se puede utilizar en su lugar el nombre del estadio. Hay que aclarar que dicha variable la vamos a usar para hacer un merge de los distintos archivos\n",
    "\n"
   ]
  },
  {
   "cell_type": "markdown",
   "id": "07162cf1",
   "metadata": {},
   "source": [
    "## 2. Análisis detallado de un conjunto de variables"
   ]
  },
  {
   "cell_type": "code",
   "execution_count": null,
   "id": "41aa0460",
   "metadata": {},
   "outputs": [],
   "source": [
    "import pandas as pd\n",
    "import numpy as np\n",
    "%matplotlib inline\n",
    "import matplotlib.pyplot as plt\n",
    "import plotly.express as px\n",
    "from scipy import stats\n",
    "import seaborn as sns"
   ]
  },
  {
   "cell_type": "code",
   "execution_count": null,
   "id": "6644da66",
   "metadata": {},
   "outputs": [],
   "source": [
    "entrenamiento = pd.read_csv('./train.csv')\n",
    "estadio = pd.read_csv('./park_dimensions.csv')"
   ]
  },
  {
   "cell_type": "code",
   "execution_count": null,
   "id": "9614ed1b",
   "metadata": {},
   "outputs": [],
   "source": [
    "completa=entrenamiento.merge(estadio, on=\"park\", how=\"left\")"
   ]
  },
  {
   "cell_type": "code",
   "execution_count": null,
   "id": "856ad4ca",
   "metadata": {},
   "outputs": [],
   "source": [
    "renamed_columns = {'NAME': 'name', 'Cover': 'cover', 'LF_Dim': 'lf_dim', 'CF_Dim':'cf_dim',\n",
    "                   'RF_Dim': 'rf_dim', 'LF_W': 'lf_w', 'CF_W': 'cf_w', 'RF_W': 'rf_w'\n",
    "                  }\n",
    "completa.rename(columns=renamed_columns, inplace=True)"
   ]
  },
  {
   "cell_type": "code",
   "execution_count": null,
   "id": "9c027e47",
   "metadata": {},
   "outputs": [],
   "source": [
    "completa = completa.drop(['park','bip_id','batter_id','pitcher_id'],axis=1)"
   ]
  },
  {
   "cell_type": "code",
   "execution_count": null,
   "id": "aad6aa33",
   "metadata": {},
   "outputs": [],
   "source": [
    "completa.head()"
   ]
  },
  {
   "cell_type": "code",
   "execution_count": null,
   "id": "afb42f29",
   "metadata": {},
   "outputs": [],
   "source": [
    "completa.describe()"
   ]
  },
  {
   "cell_type": "markdown",
   "id": "7b6ab1be",
   "metadata": {},
   "source": [
    "### Para la variable de salida, explicar y graficar su balanceo y qué consecuencias va a tener eso a la hora de entrenar y medir el rendimiento de distintos modelos."
   ]
  },
  {
   "cell_type": "code",
   "execution_count": null,
   "id": "04274366",
   "metadata": {},
   "outputs": [],
   "source": [
    "completa.is_home_run.value_counts().plot.bar(title='Número de home runs');"
   ]
  },
  {
   "cell_type": "code",
   "execution_count": null,
   "id": "ab47fac8",
   "metadata": {},
   "outputs": [],
   "source": [
    "completa.is_home_run.value_counts(normalize=True).plot.bar(title='% de home_runs');"
   ]
  },
  {
   "cell_type": "markdown",
   "id": "d852e056",
   "metadata": {},
   "source": [
    "Luego de visualizar el gráfico, podemos ver que los valores de la salida no estan balanciados, ya que se tienen mas de 40000 (95% apróx) casos en los que no se tiene home run y solo menos de 5000 (5% apróx) donde si se tiene home run. Esta gran diferencia podría traer problemas a la hora de entrenar diferentes modelos, ya que estos podrían optar por responder siempre por el valor que aparece en la mayoría de los casos y no en dicho caso no tratarían de predecir."
   ]
  },
  {
   "cell_type": "markdown",
   "id": "d22d16b1",
   "metadata": {},
   "source": [
    "### Para 5 variables de entrada (elegidas o no, pero incluyendo al menos 3 elegidas) graficar y explicar cómo se comportan y cómo afectan a la variable de salida."
   ]
  },
  {
   "cell_type": "markdown",
   "id": "5167be37",
   "metadata": {},
   "source": [
    "Las 5 variables de entrada elegidas para dicho punto son:\n",
    "- launch speed\n",
    "- launch angle\n",
    "- pitch_mph\n",
    "- bearing\n",
    "- name"
   ]
  },
  {
   "cell_type": "markdown",
   "id": "22589af4",
   "metadata": {},
   "source": [
    "Variable: launch_speed"
   ]
  },
  {
   "cell_type": "code",
   "execution_count": null,
   "id": "ac929ab7",
   "metadata": {},
   "outputs": [],
   "source": [
    "# Realación entre la variable de entrada seleccionada y la variable de salida\n",
    "px.histogram(completa, x='launch_speed', color='is_home_run', barmode='group')"
   ]
  },
  {
   "cell_type": "markdown",
   "id": "a199beda",
   "metadata": {},
   "source": [
    "Como conclusión podemos decir que la variable de entrada afecta a la variable de salida ya que cuando alcanza valores entre las 90 y las 110 millas por hora aproximadamente se empiezan a ver ejemplos de home run. Dichos valores describe una distribución simétrica."
   ]
  },
  {
   "cell_type": "markdown",
   "id": "f3e41d29",
   "metadata": {},
   "source": [
    "### Variable: launch_angle"
   ]
  },
  {
   "cell_type": "code",
   "execution_count": null,
   "id": "869d9a95",
   "metadata": {},
   "outputs": [],
   "source": [
    "# Realación entre la variable de entrada seleccionada y la variable de salida\n",
    "px.histogram(completa, x='launch_angle', color='is_home_run', barmode='group')"
   ]
  },
  {
   "cell_type": "markdown",
   "id": "7ef7cca9",
   "metadata": {},
   "source": [
    "Como conclusión del gráfico anterior podemos ver que los datos de dicha variable de entrada tienen afectan a los da las variables de salida porque podemos ver un rango de valores entre los 18 y 42 grados aproximadamente en los que se produce home run. DIcho rango describe una distribución simétrica de datos."
   ]
  },
  {
   "cell_type": "markdown",
   "id": "6dac8353",
   "metadata": {},
   "source": [
    "### Variable: pitch_mph"
   ]
  },
  {
   "cell_type": "code",
   "execution_count": null,
   "id": "8ecda014",
   "metadata": {},
   "outputs": [],
   "source": [
    "# Realación entre la variable de entrada seleccionada y la variable de salida\n",
    "px.histogram(completa, x='pitch_mph', color='is_home_run', barmode='group', nbins=30)\n",
    "px.histogram(completa, x='pitch_mph', barmode='group', nbins=30)"
   ]
  },
  {
   "cell_type": "markdown",
   "id": "b5c7171c",
   "metadata": {},
   "source": [
    "En este caso podemos ver que los datos de salida dependen de los datos de la variable de entrada pero en menor medida, ya que tenemos una distribución más uniforme con un rango de valores que va desde el 70 hasta los 100 millas por hora aproximadamente."
   ]
  },
  {
   "cell_type": "markdown",
   "id": "efb2fd13",
   "metadata": {},
   "source": [
    "### Variable: bearing"
   ]
  },
  {
   "cell_type": "code",
   "execution_count": null,
   "id": "18126456",
   "metadata": {},
   "outputs": [],
   "source": [
    "# Distribución de los datos de la variable \"bearing\"\n",
    "completa.bearing.value_counts().plot.pie(autopct='%1.0f%%',figsize=(5,5))"
   ]
  },
  {
   "cell_type": "markdown",
   "id": "25988d21",
   "metadata": {},
   "source": [
    "En el gráfico anterior se puede ver que la mayor parte de los golpes son hacia el centro, y la segunda mayor cantidad es hacia la izquierda"
   ]
  },
  {
   "cell_type": "code",
   "execution_count": null,
   "id": "64c45034",
   "metadata": {},
   "outputs": [],
   "source": [
    "# Realación entre la variable de entrada seleccionada y la variable de salida\n",
    "px.histogram(completa, x='bearing', color='is_home_run', barmode='group')"
   ]
  },
  {
   "cell_type": "markdown",
   "id": "909a33e2",
   "metadata": {},
   "source": [
    "Como se puede ver en este caso, la variable tiene poca importancia en la salida, ya que teniendo en cuenta los tipos de lanzamiento y su desigual distribución, los casos en que se producen home runs en general son similares."
   ]
  },
  {
   "cell_type": "markdown",
   "id": "7910b214",
   "metadata": {},
   "source": [
    "### Variable: name"
   ]
  },
  {
   "cell_type": "code",
   "execution_count": null,
   "id": "ac816aed",
   "metadata": {},
   "outputs": [],
   "source": [
    "#Distribución de los datos\n",
    "#completa.name.value_counts().plot.barh()\n",
    "completa.name.value_counts().plot.pie(autopct='%1.0f%%',figsize=(10,10))"
   ]
  },
  {
   "cell_type": "code",
   "execution_count": null,
   "id": "3539075a",
   "metadata": {},
   "outputs": [],
   "source": [
    "# Realación entre la variable de entrada seleccionada y la variable de salida\n",
    "px.histogram(completa, x='name', color='is_home_run', barmode='group')"
   ]
  },
  {
   "cell_type": "markdown",
   "id": "ada6f95e",
   "metadata": {},
   "source": [
    "Como se puede ver teniendo en cuenta la distribución y la relación con la variable de salida, podemos decir que la variable de entrada influye poco o casi nada en definir si una jugada es termina en home run o no."
   ]
  },
  {
   "cell_type": "markdown",
   "id": "639e2f79",
   "metadata": {},
   "source": [
    "### Para cada una de las variables de entrada elegidas, explicar si se debería realizar o no alguna transformación para poder utilizarla como entrada de un modelo y por qué."
   ]
  },
  {
   "cell_type": "code",
   "execution_count": null,
   "id": "7e7f109a",
   "metadata": {},
   "outputs": [],
   "source": [
    "completa.sample(10)"
   ]
  },
  {
   "cell_type": "markdown",
   "id": "1ee128b2",
   "metadata": {},
   "source": [
    "Para utilizar el dataset en un modelo hay muchos cambios que se podrían aplicar a las variables. Los mismos se mencionan a continuación:"
   ]
  },
  {
   "cell_type": "markdown",
   "id": "f2edc48f",
   "metadata": {},
   "source": [
    "### Analizar si las variables de entrada seleccionadas presentan valores nulos y/o extremos. En caso de encontrar dichas condiciones, indicar qué tratamiento se podría darle a las mismas y por qué."
   ]
  },
  {
   "cell_type": "markdown",
   "id": "3f297c90",
   "metadata": {},
   "source": [
    "### Valores nulos"
   ]
  },
  {
   "cell_type": "code",
   "execution_count": null,
   "id": "eb962fa9",
   "metadata": {},
   "outputs": [],
   "source": [
    "completa.isnull().sum()"
   ]
  },
  {
   "cell_type": "markdown",
   "id": "741d058e",
   "metadata": {},
   "source": [
    "Como se puede ver en la estadistica anterior hay valores nulos en las variables \"launch_speed\" media, \"launch_angle\" y \"bb_type\" eliminar. El tratamiento que se le podría dar a las dos primeras es el de completarlas con la media de obtenida de los otros casos o con los valores de los casos similares. Otra opción podría ser eliminar sus filas ya que se tienen muchos datos y no habría muchos problemas sin se sacan algunos. Con respecto a la variable \"bb_type\" lo que se puede hacer es eliminar las filas con los valores nulos, ya que son muy pocas."
   ]
  },
  {
   "cell_type": "markdown",
   "id": "fc7408a5",
   "metadata": {},
   "source": [
    "### Valores extremos"
   ]
  },
  {
   "cell_type": "code",
   "execution_count": null,
   "id": "67d8e0ee",
   "metadata": {},
   "outputs": [],
   "source": [
    "# Convertimos en array a la columna launch_angle\n",
    "launch_angles = np.array(completa.launch_angle)\n",
    "\n",
    "# Armamos un diagrama de dispersión con la variable launch_angle.\n",
    "angle_unique, counts = np.unique(launch_angles, return_counts = True)\n",
    "size = counts * 3\n",
    "colors = ['blue'] * len(angle_unique)\n",
    "plt.axhline(1,color='k',linestyle='--')\n",
    "plt.scatter(angle_unique,np.ones(len(angle_unique)),s=size,color=colors)\n",
    "plt.yticks([])\n",
    "plt.show()"
   ]
  },
  {
   "cell_type": "code",
   "execution_count": null,
   "id": "8810b1cd",
   "metadata": {},
   "outputs": [],
   "source": [
    "# DIagrama de caja de campo launch_angle\n",
    "\n",
    "completa.boxplot('launch_angle');"
   ]
  },
  {
   "cell_type": "code",
   "execution_count": null,
   "id": "43460975",
   "metadata": {},
   "outputs": [],
   "source": [
    "launch_speeds = np.array(completa.launch_speed)\n",
    "\n",
    "speed_unique, counts = np.unique(launch_speeds, return_counts = True)\n",
    "size = counts * 3\n",
    "colors = ['blue'] * len(speed_unique)\n",
    "plt.axhline(1,color='k',linestyle='--')\n",
    "plt.scatter(speed_unique,np.ones(len(speed_unique)),s=size,color=colors)\n",
    "plt.yticks([])\n",
    "plt.show()"
   ]
  },
  {
   "cell_type": "code",
   "execution_count": null,
   "id": "acb77408",
   "metadata": {},
   "outputs": [],
   "source": [
    "completa.boxplot('launch_speed');"
   ]
  },
  {
   "cell_type": "code",
   "execution_count": null,
   "id": "e66117dd",
   "metadata": {},
   "outputs": [],
   "source": [
    "plate_xs = np.array(completa.plate_x)\n",
    "\n",
    "platex_unique, counts = np.unique(plate_xs, return_counts = True)\n",
    "size = counts * 3\n",
    "colors = ['blue'] * len(platex_unique)\n",
    "plt.axhline(1,color='k',linestyle='--')\n",
    "plt.scatter(platex_unique,np.ones(len(platex_unique)),s=size,color=colors)\n",
    "plt.yticks([])\n",
    "plt.show()"
   ]
  },
  {
   "cell_type": "code",
   "execution_count": null,
   "id": "ee0fabfe",
   "metadata": {},
   "outputs": [],
   "source": [
    "completa.boxplot('plate_x');"
   ]
  },
  {
   "cell_type": "code",
   "execution_count": null,
   "id": "0c693ef3",
   "metadata": {},
   "outputs": [],
   "source": [
    "plate_zs = np.array(completa.plate_z)\n",
    "\n",
    "platez_unique, counts = np.unique(plate_zs, return_counts = True)\n",
    "size = counts * 3\n",
    "colors = ['blue'] * len(platez_unique)\n",
    "plt.axhline(1,color='k',linestyle='--')\n",
    "plt.scatter(platez_unique,np.ones(len(platez_unique)),s=size,color=colors)\n",
    "plt.yticks([])\n",
    "plt.show()"
   ]
  },
  {
   "cell_type": "code",
   "execution_count": null,
   "id": "fe3cfc6a",
   "metadata": {},
   "outputs": [],
   "source": [
    "completa.boxplot('plate_z');"
   ]
  },
  {
   "cell_type": "code",
   "execution_count": null,
   "id": "b2ac33a2",
   "metadata": {},
   "outputs": [],
   "source": [
    "pitch_mphs = np.array(completa.pitch_mph)\n",
    "\n",
    "pitch_mph_unique, counts = np.unique(pitch_mphs, return_counts = True)\n",
    "size = counts * 3\n",
    "colors = ['blue'] * len(pitch_mph_unique)\n",
    "plt.axhline(1,color='k',linestyle='--')\n",
    "plt.scatter(pitch_mph_unique,np.ones(len(pitch_mph_unique)),s=size,color=colors)\n",
    "plt.yticks([])\n",
    "plt.show()"
   ]
  },
  {
   "cell_type": "code",
   "execution_count": null,
   "id": "8154af8d",
   "metadata": {},
   "outputs": [],
   "source": [
    "completa.boxplot('pitch_mph');"
   ]
  },
  {
   "cell_type": "markdown",
   "id": "709258a5",
   "metadata": {},
   "source": [
    "De acuerdo a lo visto en los gráficos anteriores, las variables que poseen extremos son \"plate_x\", \"plate_z\", \"pitch_mph\", \"launch_speed\" y \"launch_angle\". Lo que se podría hacer con dichos datos es eliminarlos para que no afecten los resultados de los métricas.Cabe aclarar que las variables \"lf_dim\", \"cf_dim\", \"rf_dim\", \"lf_w\", \"cf_w\" y \"rf_w\" también presentan valores extremos, pero en estos casos se deben dejar porque hablan de las dimensiones de los estadios y por lo tanto no se deberían eliminar."
   ]
  },
  {
   "cell_type": "markdown",
   "id": "ae0f4450",
   "metadata": {},
   "source": [
    "### Verificar si existen variables altamente correlacionadas con la variable \"target\". En dicho caso, explicar por qué considera que esto pasa. (hacer gráfico de colores)"
   ]
  },
  {
   "cell_type": "code",
   "execution_count": null,
   "id": "702b1c2c",
   "metadata": {},
   "outputs": [],
   "source": [
    "# Grafico de colores de las principales variables\n",
    "\n",
    "sns.heatmap(completa.corr(), annot=True, cmap='RdYlGn', linewidths=0.2)\n",
    "fig = plt.gcf()\n",
    "fig.set_size_inches(20, 8)\n",
    "plt.show()"
   ]
  },
  {
   "cell_type": "markdown",
   "id": "1a3dafe3",
   "metadata": {},
   "source": [
    "Como se ve en el gráfico de colores no existen variables altamente correlacionadas con la variable target, ya que la variables con mayor valor de correlación son \"launch_speed\" y \"launch_angle\" con 0,25 y 0,13 respectivamente. Consideramos que esto pasa por la cantidad de variables de entrada del sataset y por el gran desbalance entre los datos de categoría positiva y negativa (si es o no home run)."
   ]
  },
  {
   "cell_type": "markdown",
   "id": "177d7861",
   "metadata": {},
   "source": [
    "## 3. Hipótesis sobre los datos"
   ]
  },
  {
   "cell_type": "markdown",
   "id": "aa23db1f",
   "metadata": {},
   "source": [
    "Formular y describir de forma coloquial al menos una hipótesis sobre los datos que podría explicar el valor de la variable \"target\" bajo determinadas condiciones. Realizar un análisis para contrastar si dicha hipótesis se valida o, por el contrario, se refuta a partir de los datos."
   ]
  },
  {
   "cell_type": "markdown",
   "id": "7d2d4bb9",
   "metadata": {},
   "source": [
    "Describa y presente cualquier otro hallazgo que sea capaz de encontrar en los datos. Explique el impacto que podría tener en la creación de un modelo."
   ]
  },
  {
   "cell_type": "code",
   "execution_count": null,
   "id": "e5d4f562",
   "metadata": {},
   "outputs": [],
   "source": []
  }
 ],
 "metadata": {
  "kernelspec": {
   "display_name": "Python 3 (ipykernel)",
   "language": "python",
   "name": "python3"
  },
  "language_info": {
   "codemirror_mode": {
    "name": "ipython",
    "version": 3
   },
   "file_extension": ".py",
   "mimetype": "text/x-python",
   "name": "python",
   "nbconvert_exporter": "python",
   "pygments_lexer": "ipython3",
   "version": "3.10.6"
  }
 },
 "nbformat": 4,
 "nbformat_minor": 5
}
