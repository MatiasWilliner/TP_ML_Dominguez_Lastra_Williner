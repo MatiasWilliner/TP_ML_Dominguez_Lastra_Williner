{
 "cells": [
  {
   "cell_type": "markdown",
   "id": "3d91ed06",
   "metadata": {},
   "source": [
    "# Trabajo Práctico 2: Entrenamiento y evaluación de modelos"
   ]
  },
  {
   "cell_type": "markdown",
   "id": "5622308a",
   "metadata": {},
   "source": [
    "A partir del dataset elegido y ya preprocesado con la lógica definida en el TP1, el grupo debe realizar el entrenamiento y evaluación de al menos 3 algoritmos de machine learning.\n",
    "\n",
    "   Se debe elegir y definir una métrica de performance a utilizar para evaluar los modelos. Fundamentar la elección de la métrica.\n",
    "   Se debe aplicar alguna técnica de feature engineering para mejorar los datos de entrada a los modelos, y mostrar la comparativa de los resultados obtenidos en cada caso. Si no es posible o útil, fundamentar el motivo por el cual no se realizará.\n",
    "   Por cada modelo, se debe entrenarlo y realizar una exploración de hiper-parámetros mediante una búsqueda en grilla. Evaluar el comportamiento de cada modelo con los hiper-parámetros que mejores resultados ofrecen. En caso de ser posible, aporte conclusiones respecto a dicha comparación.\n",
    "   Realizar experimentos que utilicen como datos de entrada representaciones intermedias de los datos (generadas por técnicas de reducción de dimensiones como PCA). Compare los resultados obtenidos contra los casos previos, interprete y proponga conclusiones.\n",
    "   Se deben utilizar técnicas que garanticen que los modelos no están sobreentrenando sin que nos demos cuenta.\n",
    "   Determinar el valor final de la métrica que podría ser informado al cliente, utilizando técnicas que permitan obtener un valor lo más realista posible. Fundamentar y considerar no solo el rendimiento del modelo en su elección, sino también cuestiones como interpretabilidad, tiempos de entrenamiento, etc.\n",
    "   Para el método propuesto como definitivo, y para distintos pares de variables, genere diagramas de dispersión donde se visualicen los aciertos y errores del mismo. Discuta si existen patrones o conocimiento que se pueda obtener a partir de dichos errores. En caso de ser posible, evalúe la importancia que asigna el método a las variables de entrada y genere conclusiones al respecto.\n"
   ]
  },
  {
   "cell_type": "markdown",
   "id": "fda09d4d",
   "metadata": {},
   "source": [
    "## Tratamiento de datos aplicando en el TPN°1"
   ]
  },
  {
   "cell_type": "code",
   "execution_count": 10,
   "id": "f3e2fc07",
   "metadata": {},
   "outputs": [],
   "source": [
    "# Importamos las dependencias necesarias.\n",
    "import pandas as pd\n",
    "import numpy as np\n",
    "import matplotlib.pyplot as plt\n",
    "import plotly.express as px\n",
    "from scipy import stats\n",
    "import seaborn as sns\n",
    "import warnings\n",
    "from sklearn.pipeline import Pipeline\n",
    "from matplotlib import pyplot as plt\n",
    "from sklearn.experimental import enable_iterative_imputer\n",
    "from sklearn.impute import SimpleImputer, IterativeImputer\n",
    "from sklearn_pandas import DataFrameMapper\n",
    "from sklearn.preprocessing import MinMaxScaler, StandardScaler, OneHotEncoder\n",
    "from sklearn import metrics\n",
    "\n",
    "from sklearn.linear_model import LogisticRegression\n",
    "from sklearn.neighbors import KNeighborsClassifier\n",
    "from sklearn.model_selection import GridSearchCV\n",
    "from sklearn.ensemble import RandomForestClassifier\n",
    "\n",
    "from sklearn.tree import DecisionTreeClassifier\n",
    "from sklearn.preprocessing import LabelBinarizer\n",
    "%matplotlib inline\n",
    "import matplotlib.pyplot as plt\n",
    "import plotly.express as px\n",
    "warnings.filterwarnings('ignore')"
   ]
  },
  {
   "cell_type": "code",
   "execution_count": 2,
   "id": "d187f741",
   "metadata": {},
   "outputs": [
    {
     "data": {
      "text/plain": [
       "game_date               0\n",
       "home_team               0\n",
       "away_team               0\n",
       "batter_team             0\n",
       "batter_name             0\n",
       "pitcher_name            0\n",
       "is_batter_lefty         0\n",
       "is_pitcher_lefty        0\n",
       "bb_type                 0\n",
       "bearing                 0\n",
       "pitch_name              0\n",
       "inning                  0\n",
       "outs_when_up            0\n",
       "balls                   0\n",
       "strikes                 0\n",
       "plate_x                 0\n",
       "plate_z                 0\n",
       "pitch_mph               0\n",
       "launch_speed        11804\n",
       "launch_angle        11784\n",
       "is_home_run             0\n",
       "name                    0\n",
       "cover                   0\n",
       "lf_dim                  0\n",
       "cf_dim                  0\n",
       "rf_dim                  0\n",
       "lf_w                    0\n",
       "cf_w                    0\n",
       "rf_w                    0\n",
       "dtype: int64"
      ]
     },
     "execution_count": 2,
     "metadata": {},
     "output_type": "execute_result"
    }
   ],
   "source": [
    "#Arreglamos el dataset según lo establecido en el TP1\n",
    "\n",
    "# Importamos train.csv y park_dimensions.csv, los unimos utilizando la variable \"park\"\n",
    "entrenamiento = pd.read_csv('./train.csv')\n",
    "estadio = pd.read_csv('./park_dimensions.csv')\n",
    "completa=entrenamiento.merge(estadio, on=\"park\", how=\"left\")\n",
    "\n",
    "# Desechamos las variables no utilizadas\n",
    "completa = completa.drop(['park','bip_id','batter_id','pitcher_id'],axis=1)\n",
    "\n",
    "# Asignamos nuevos nombres a las columnas\n",
    "renamed_columns = {'NAME': 'name', 'Cover': 'cover', 'LF_Dim': 'lf_dim', 'CF_Dim':'cf_dim',\n",
    "                   'RF_Dim': 'rf_dim', 'LF_W': 'lf_w', 'CF_W': 'cf_w', 'RF_W': 'rf_w'\n",
    "                  }\n",
    "completa.rename(columns=renamed_columns, inplace=True)\n",
    "\n",
    "# Convertir columna \"game_date\" de tipo object/string, a datetime\n",
    "completa['game_date'] = pd.to_datetime(completa['game_date'])\n",
    "\n",
    "# Eliminar datos filas con datos nulos en bb_type\n",
    "completa = completa[~completa.bb_type.isnull()]\n",
    "#Delimitación de conjuntos\n",
    "completa.isnull().sum()"
   ]
  },
  {
   "cell_type": "code",
   "execution_count": null,
   "id": "6df38961",
   "metadata": {},
   "outputs": [],
   "source": [
    "completa[['inning', 'outs_when_up', 'balls', 'strikes', 'plate_x', \n",
    "           'plate_z', 'pitch_mph', 'launch_speed', 'launch_angle', \n",
    "           'lf_dim', 'cf_dim', 'rf_dim', 'lf_w', 'cf_w', 'rf_w']\n",
    "         ].describe(include='all')"
   ]
  },
  {
   "cell_type": "markdown",
   "id": "77439fd1",
   "metadata": {},
   "source": [
    "## Selección de métrica\n",
    "\n",
    "Se debe elegir y definir una métrica de performance a utilizar para evaluar los modelos. Fundamentar la elección de la métrica."
   ]
  },
  {
   "cell_type": "markdown",
   "id": "ad0e8e02",
   "metadata": {},
   "source": [
    "La métrica seleccionada no debería ser accuraccy porque los datos estan desproporcionados en lo que respecta a si hay home run o no. Se podría utilizar en su lugar lo que serían precisión y recall"
   ]
  },
  {
   "cell_type": "markdown",
   "id": "bfadfb89",
   "metadata": {},
   "source": [
    "## Aplicaciones de featuring engineering"
   ]
  },
  {
   "cell_type": "markdown",
   "id": "252a5b92",
   "metadata": {},
   "source": [
    "### División del dataset.\n",
    "\n",
    "El dataset se va a dividir en tres grupos:\n",
    " - Train (60%)\n",
    " - Test (20%)\n",
    " - Validation (20%)"
   ]
  },
  {
   "cell_type": "code",
   "execution_count": 3,
   "id": "d26736c5",
   "metadata": {},
   "outputs": [
    {
     "data": {
      "text/plain": [
       "((27742, 29), (9248, 29), (9248, 29))"
      ]
     },
     "execution_count": 3,
     "metadata": {},
     "output_type": "execute_result"
    }
   ],
   "source": [
    "#División de datasets en \"train\", \"test\" y \"validation\"\n",
    "from sklearn.model_selection import train_test_split\n",
    "\n",
    "train, not_train = train_test_split(completa, test_size=0.4, random_state=42)\n",
    "validation, test = train_test_split(not_train, test_size=0.5, random_state=42)\n",
    "\n",
    "train.shape, validation.shape, test.shape"
   ]
  },
  {
   "cell_type": "code",
   "execution_count": null,
   "id": "8c58d0fc",
   "metadata": {},
   "outputs": [],
   "source": []
  },
  {
   "cell_type": "code",
   "execution_count": 4,
   "id": "6209397c",
   "metadata": {},
   "outputs": [
    {
     "data": {
      "text/plain": [
       "bb_type_0          0\n",
       "bb_type_1          0\n",
       "bb_type_2          0\n",
       "bb_type_3          0\n",
       "bearing_0          0\n",
       "bearing_1          0\n",
       "bearing_2          0\n",
       "pitch_name_0       0\n",
       "pitch_name_1       0\n",
       "pitch_name_2       0\n",
       "pitch_name_3       0\n",
       "pitch_name_4       0\n",
       "pitch_name_5       0\n",
       "pitch_name_6       0\n",
       "pitch_name_7       0\n",
       "pitch_name_8       0\n",
       "inning             0\n",
       "outs_when_up       0\n",
       "balls              0\n",
       "strikes            0\n",
       "plate_x            0\n",
       "plate_z            0\n",
       "pitch_mph          0\n",
       "launch_speed    7082\n",
       "launch_angle    7070\n",
       "is_home_run        0\n",
       "dtype: int64"
      ]
     },
     "execution_count": 4,
     "metadata": {},
     "output_type": "execute_result"
    }
   ],
   "source": [
    "# Definimos el mapper. Recibe una lista de (columna/s, transformers)\n",
    "mapper = DataFrameMapper([\n",
    "    #(['game_date'], None),\n",
    "    #(['home_team'], None),\n",
    "    #(['away_team'], None),\n",
    "    (['batter_team'], None),\n",
    "    #(['batter_name'], None),\n",
    "    #(['pitcher_name'], None),\n",
    "    \n",
    "    #(['is_batter_lefty'], None),\n",
    "    #(['is_pitcher_lefty'], None),\n",
    "    (['bb_type'], [OneHotEncoder()]),\n",
    "    (['bearing'], [OneHotEncoder()]),\n",
    "    (['pitch_name'], [OneHotEncoder()]),\n",
    "    (['inning'], [StandardScaler()]),\n",
    "    (['outs_when_up'], None),\n",
    "    (['balls'], [MinMaxScaler()]),\n",
    "    (['strikes'], [MinMaxScaler()]),\n",
    "    \n",
    "    #(['park'], None),\n",
    "    \n",
    "    (['plate_x'], [MinMaxScaler()]),\n",
    "    (['plate_z'], [MinMaxScaler()]),\n",
    "   \n",
    "    (['pitch_mph'], [StandardScaler()]),\n",
    "    (['launch_speed'], [StandardScaler()]),\n",
    "    (['launch_angle'], [StandardScaler()]),\n",
    "    (['is_home_run'], None),\n",
    "    \n",
    "    #(['name']),\n",
    "    \n",
    "    #(['cover'], [OneHotEncoder()]),\n",
    "    #(['lf_dim'], [MinMaxScaler()]),\n",
    "    #(['cf_dim'], [MinMaxScaler()]),\n",
    "    #(['rf_dim'], [MinMaxScaler()]),\n",
    "    #(['lf_w'], [MinMaxScaler()]),\n",
    "    #(['cf_w'], [MinMaxScaler()]),\n",
    "    #(['rf_w'], [MinMaxScaler()]),\n",
    "])\n",
    "\n",
    "mapper.fit(train)\n",
    "#mapper.transform(train)\n",
    "\n",
    "train_processed = mapper.transform(train)\n",
    "train_processed = pd.DataFrame(train_processed, columns=mapper.transformed_names_)\n",
    "train_processed\n",
    "#mapper.transformed_names_\n",
    "train_processed.isnull().sum()"
   ]
  },
  {
   "cell_type": "code",
   "execution_count": null,
   "id": "547e9dbe",
   "metadata": {},
   "outputs": [],
   "source": [
    "train.isnull().sum()"
   ]
  },
  {
   "cell_type": "code",
   "execution_count": null,
   "id": "d43c92e7",
   "metadata": {},
   "outputs": [],
   "source": [
    "#Reemplazar los Nan con media\n",
    "\n",
    "imputer= SimpleImputer(missing_values=np.nan, strategy='mean')\n",
    "train_b=train[[\"launch_speed\",\"launch_angle\"]]\n",
    "train_n=train[[\"launch_speed\",\"launch_angle\"]]\n",
    "imputer.fit(train_b)\n",
    "train_b=imputer.transform(train_b)\n",
    "train_b=pd.DataFrame(train_b, columns=train_n.columns)\n",
    "train_b.isnull().sum()\n",
    "\n",
    "\n",
    "\n",
    "\n",
    "##################################### revisar #########################################\n",
    "def condition_h2(row):\n",
    "    #print(row['launch_speed'])\n",
    "    return row['launch_angle']\n",
    "\n",
    "launch_angle = train_b.apply(condition_h2, axis=1)\n",
    "\n",
    "def condition_h3(row):\n",
    "    #print(row['launch_speed'])\n",
    "    return row['launch_speed']\n",
    "\n",
    "launch_speed = train_b.apply(condition_h3, axis=1)\n",
    "\n",
    "train['launch_speed'] = train['launch_speed'].replace(launch_speed)\n",
    "#train.launch_speed = train.launch_speed.replace(launch_speed)\n",
    "#train.launch_speed = launch_speed\n",
    "#train.launch_angle = launch_angle\n",
    "\n",
    "train.isnull().sum()"
   ]
  },
  {
   "cell_type": "code",
   "execution_count": 15,
   "id": "f6c33ada",
   "metadata": {},
   "outputs": [],
   "source": [
    "#Combinación de lo anterior\n",
    "\n",
    "pipe1 = Pipeline([\n",
    "    ('mapper', mapper),\n",
    "    ('imputer', SimpleImputer(strategy='mean')),\n",
    "])\n",
    "# Lo entrenamos con train\n",
    "pipe1.fit(train)\n",
    "train_b = pipe1.transform(train)\n",
    "train_b=pd.DataFrame(train_b, columns=mapper.transformed_names_)\n",
    "train_b.isnull().sum()\n",
    "train_b\n",
    "#mapper.transformed_names_"
   ]
  },
  {
   "cell_type": "markdown",
   "id": "da2ed3f4",
   "metadata": {},
   "source": [
    "### Aplicación de QuantileTransformer"
   ]
  },
  {
   "cell_type": "code",
   "execution_count": 55,
   "id": "8fd0ab1e",
   "metadata": {},
   "outputs": [
    {
     "data": {
      "text/plain": [
       "11178    0.367347\n",
       "34435    0.183673\n",
       "2677     0.351648\n",
       "31577    0.089958\n",
       "19769    0.926515\n",
       "           ...   \n",
       "11287    0.806002\n",
       "44738    0.046460\n",
       "38163    0.280357\n",
       "860      0.668214\n",
       "15798    0.261025\n",
       "Name: pitch_mph, Length: 27742, dtype: float64"
      ]
     },
     "execution_count": 55,
     "metadata": {},
     "output_type": "execute_result"
    }
   ],
   "source": [
    "train['pitch_mph']"
   ]
  },
  {
   "cell_type": "code",
   "execution_count": 59,
   "id": "52eb69e4",
   "metadata": {},
   "outputs": [
    {
     "name": "stdout",
     "output_type": "stream",
     "text": [
      "QuantileTransformer(n_quantiles=50)\n",
      "[[0.36734694]\n",
      " [0.18367347]\n",
      " [0.35164835]\n",
      " ...\n",
      " [0.27504659]\n",
      " [0.66821429]\n",
      " [0.25819909]]\n",
      "QuantileTransformer(n_quantiles=50)\n",
      "[[0.36734694]\n",
      " [0.19182072]\n",
      " [0.35441869]\n",
      " ...\n",
      " [0.28128577]\n",
      " [0.67346939]\n",
      " [0.26530612]]\n"
     ]
    },
    {
     "data": {
      "text/plain": [
       "11178   -0.338888\n",
       "34435   -0.886434\n",
       "2677    -0.380874\n",
       "31577   -1.302428\n",
       "19769    1.450316\n",
       "           ...   \n",
       "11287    0.866591\n",
       "44738   -1.646671\n",
       "38163   -0.581782\n",
       "860      0.434988\n",
       "15798   -0.637939\n",
       "Name: pitch_mph, Length: 27742, dtype: float64"
      ]
     },
     "execution_count": 59,
     "metadata": {},
     "output_type": "execute_result"
    },
    {
     "data": {
      "image/png": "[encoded data removed]",
      "text/plain": [
       "<Figure size 1200x400 with 3 Axes>"
      ]
     },
     "metadata": {},
     "output_type": "display_data"
    },
    {
     "data": {
      "image/png": "[encoded data removed]",
      "text/plain": [
       "<Figure size 1200x400 with 3 Axes>"
      ]
     },
     "metadata": {},
     "output_type": "display_data"
    }
   ],
   "source": [
    "def plot_histogram_transformation():\n",
    "\n",
    "   \n",
    "    fig, axis = plt.subplots(1, 3, figsize=(12, 4), sharey=True)\n",
    "\n",
    "    x = train.pitch_mph\n",
    "    x.hist(ax=axis[0], bins=20)\n",
    "    axis[0].set_title('Distribución original')\n",
    "    \n",
    "    tr = QuantileTransformer(n_quantiles=50, output_distribution='uniform')\n",
    "    trr=tr.fit(x.to_frame())\n",
    "    print(trr)\n",
    "\n",
    "    x2 = tr.transform(x.to_frame())\n",
    "    print(x2)\n",
    "    pd.Series(x2.flatten()).hist(ax=axis[1], bins=20)\n",
    "    axis[1].set_title('Distribución uniforme')\n",
    "    #return x2\n",
    "\n",
    "    tr = QuantileTransformer(n_quantiles=50, output_distribution='normal')\n",
    "    tr.fit(x.to_frame())\n",
    "\n",
    "    x2 = tr.transform(x.to_frame())\n",
    "    pd.Series(x2.flatten()).hist(ax=axis[2], bins=20)\n",
    "    axis[2].set_title('Distribución normal')\n",
    "    return x2\n",
    "plot_histogram_transformation()\n",
    "train['pitch_mph']=plot_histogram_transformation()\n",
    "train['pitch_mph']"
   ]
  },
  {
   "cell_type": "code",
   "execution_count": null,
   "id": "3530be60",
   "metadata": {},
   "outputs": [],
   "source": []
  },
  {
   "cell_type": "code",
   "execution_count": null,
   "id": "0de7e747",
   "metadata": {},
   "outputs": [],
   "source": []
  },
  {
   "cell_type": "markdown",
   "id": "31c4bdff",
   "metadata": {},
   "source": [
    "## Modelos a utilizar"
   ]
  },
  {
   "cell_type": "markdown",
   "id": "119178d6",
   "metadata": {},
   "source": [
    "Los modelos que vamos a utilizar van a ser:\n",
    " - LogisticRegression\n",
    " - KNeighborsClassifier\n",
    " - GridSearchCV\n",
    " - RandomForestClassifier"
   ]
  },
  {
   "cell_type": "code",
   "execution_count": null,
   "id": "8fedfefd",
   "metadata": {},
   "outputs": [],
   "source": []
  },
  {
   "cell_type": "markdown",
   "id": "8d6c3859",
   "metadata": {},
   "source": [
    "Por cada modelo, se debe entrenarlo y realizar una exploración de hiper-parámetros mediante una búsqueda en grilla. Evaluar el comportamiento de cada modelo con los hiper-parámetros que mejores resultados ofrecen. En caso de ser posible, aporte conclusiones respecto a dicha comparación."
   ]
  },
  {
   "cell_type": "markdown",
   "id": "dcffd1fd",
   "metadata": {},
   "source": [
    "## Técnicas de reducción de la dimensionalidad "
   ]
  },
  {
   "cell_type": "code",
   "execution_count": 62,
   "id": "e53d0033",
   "metadata": {},
   "outputs": [],
   "source": [
    "from sklearn.decomposition import PCA\n",
    "from sklearn.preprocessing import StandardScaler\n",
    "from sklearn.pipeline import make_pipeline"
   ]
  },
  {
   "cell_type": "code",
   "execution_count": 74,
   "id": "0e9d95aa",
   "metadata": {},
   "outputs": [
    {
     "name": "stdout",
     "output_type": "stream",
     "text": [
      "Index(['bb_type_0', 'bb_type_1', 'bb_type_2', 'bb_type_3', 'bearing_0',\n",
      "       'bearing_1', 'bearing_2', 'pitch_name_0', 'pitch_name_1',\n",
      "       'pitch_name_2', 'pitch_name_3', 'pitch_name_4', 'pitch_name_5',\n",
      "       'pitch_name_6', 'pitch_name_7', 'pitch_name_8', 'inning',\n",
      "       'outs_when_up', 'balls', 'strikes', 'plate_x', 'plate_z', 'pitch_mph',\n",
      "       'launch_speed', 'launch_angle', 'is_home_run'],\n",
      "      dtype='object')\n",
      "----------------------------------------------------\n",
      "Porcentaje de varianza explicada por cada componente\n",
      "----------------------------------------------------\n",
      "[1.04640527e-01 8.18263636e-02 6.65550184e-02 5.83245737e-02\n",
      " 5.56344895e-02 5.24738711e-02 4.95672664e-02 4.79231833e-02\n",
      " 4.69017612e-02 4.31265901e-02 4.23385574e-02 4.00606030e-02\n",
      " 3.94602518e-02 3.86975338e-02 3.82893952e-02 3.72943839e-02\n",
      " 3.28196783e-02 3.01459587e-02 2.87211569e-02 2.70624951e-02\n",
      " 2.12945181e-02 1.03799825e-02 6.46184088e-03 3.65226322e-31\n",
      " 1.48300207e-31 6.55040552e-32]\n"
     ]
    },
    {
     "data": {
      "image/png": "[encoded data removed]",
      "text/plain": [
       "<Figure size 600x400 with 1 Axes>"
      ]
     },
     "metadata": {},
     "output_type": "display_data"
    }
   ],
   "source": [
    "pca_pipe = make_pipeline(StandardScaler(), PCA())\n",
    "pca_pipe.fit(train_b)\n",
    "\n",
    "modelo_pca = pca_pipe.named_steps['pca']\n",
    "print(train_b.columns)\n",
    "\n",
    "print('----------------------------------------------------')\n",
    "print('Porcentaje de varianza explicada por cada componente')\n",
    "print('----------------------------------------------------')\n",
    "print(modelo_pca.explained_variance_ratio_)\n",
    "\n",
    "fig, ax = plt.subplots(nrows=1, ncols=1, figsize=(6, 4))\n",
    "ax.bar(\n",
    "    x      = np.arange(modelo_pca.n_components_) + 1,\n",
    "    height = modelo_pca.explained_variance_ratio_\n",
    ")\n",
    "\n",
    "for x, y in zip(np.arange(len(train_b.columns)) + 1, modelo_pca.explained_variance_ratio_):\n",
    "    label = round(y, 2)\n",
    "    ax.annotate(\n",
    "        label,\n",
    "        (x,y),\n",
    "        textcoords=\"offset points\",\n",
    "        xytext=(0,10),\n",
    "        ha='center'\n",
    "    )\n",
    "\n",
    "ax.set_xticks(np.arange(modelo_pca.n_components_) + 1)\n",
    "ax.set_ylim(0, 1.1)\n",
    "ax.set_title('Porcentaje de varianza explicada por cada componente')\n",
    "ax.set_xlabel('Componente principal')\n",
    "ax.set_ylabel('Por. varianza explicada');\n",
    "#train_processed.head=X_cols\n",
    "\n",
    "#pca= PCA(n_components=4,random_state=42)\n",
    "#train= pca.fit_transform(train_b)\n",
    "#[:37]"
   ]
  },
  {
   "cell_type": "code",
   "execution_count": null,
   "id": "55b4cf45",
   "metadata": {},
   "outputs": [],
   "source": []
  }
 ],
 "metadata": {
  "kernelspec": {
   "display_name": "Python 3 (ipykernel)",
   "language": "python",
   "name": "python3"
  },
  "language_info": {
   "codemirror_mode": {
    "name": "ipython",
    "version": 3
   },
   "file_extension": ".py",
   "mimetype": "text/x-python",
   "name": "python",
   "nbconvert_exporter": "python",
   "pygments_lexer": "ipython3",
   "version": "3.10.6"
  }
 },
 "nbformat": 4,
 "nbformat_minor": 5
}
